{
 "cells": [
  {
   "cell_type": "code",
   "id": "initial_id",
   "metadata": {
    "collapsed": true,
    "ExecuteTime": {
     "end_time": "2024-11-06T09:44:32.605753Z",
     "start_time": "2024-11-06T09:44:31.553580Z"
    }
   },
   "source": [
    "import numpy as np\n",
    "import pandas as pd\n",
    "import seaborn as sb\n",
    "import networkx as nx\n",
    "import random\n",
    "from networkx import Graph\n",
    "from sklearn.metrics import mutual_info_score\n",
    "from joblib import Parallel, delayed\n",
    "import matplotlib.pyplot as plt\n",
    "from src.pamst import pamst"
   ],
   "outputs": [],
   "execution_count": 1
  },
  {
   "metadata": {},
   "cell_type": "code",
   "outputs": [],
   "execution_count": null,
   "source": "print(\"test\")",
   "id": "67f4e235576d7cdf"
  },
  {
   "metadata": {},
   "cell_type": "code",
   "outputs": [],
   "execution_count": null,
   "source": [
    "# Initialize new random graph\n",
    "size = 1000\n",
    "G: Graph = nx.complete_graph(size)\n",
    "for (u, v, w) in G.edges(data=True):\n",
    "    w['weight'] = random.random()"
   ],
   "id": "41aa9189261862ee"
  },
  {
   "metadata": {},
   "cell_type": "code",
   "outputs": [],
   "execution_count": null,
   "source": [
    "# Compute the Real MST using PRIM\n",
    "T  = nx.maximum_spanning_tree(G, algorithm ='prim')\n",
    "weight = 0\n",
    "for _,_,d in T.edges(data=True):\n",
    "    weight += d['weight']\n",
    "\n",
    "pos = nx.circular_layout(G, scale=40)  # positions for all nodes - seed for reproducibility\n",
    "edge_labels = dict([((u,v,), format_edges(d['weight'])) for u,v,d in G.pamst_edges(data=True)])\n",
    "\n",
    "# Running PAMST\n",
    "\n",
    "# Post-Processing Sealfon\n"
   ],
   "id": "ef9de14c3c0f6074"
  },
  {
   "metadata": {},
   "cell_type": "code",
   "outputs": [],
   "execution_count": null,
   "source": "",
   "id": "1e872fd2a0ee3b27"
  }
 ],
 "metadata": {
  "kernelspec": {
   "display_name": "Python 3",
   "language": "python",
   "name": "python3"
  },
  "language_info": {
   "codemirror_mode": {
    "name": "ipython",
    "version": 2
   },
   "file_extension": ".py",
   "mimetype": "text/x-python",
   "name": "python",
   "nbconvert_exporter": "python",
   "pygments_lexer": "ipython2",
   "version": "2.7.6"
  }
 },
 "nbformat": 4,
 "nbformat_minor": 5
}

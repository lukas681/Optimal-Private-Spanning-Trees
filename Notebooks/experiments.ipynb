{
 "cells": [
  {
   "cell_type": "code",
   "id": "initial_id",
   "metadata": {
    "collapsed": true,
    "ExecuteTime": {
     "end_time": "2024-11-06T09:54:38.473072Z",
     "start_time": "2024-11-06T09:54:38.456073Z"
    }
   },
   "source": [
    "import math\n",
    "import random\n",
    "import networkx as nx\n",
    "from networkx import Graph\n",
    "\n",
    "import numpy as np\n",
    "import pandas as pd\n",
    "import seaborn as sb\n",
    "from sklearn.metrics import mutual_info_score\n",
    "from joblib import Parallel, delayed\n",
    "import matplotlib.pyplot as plt\n",
    "from src.pamst import pamst, comp_mst_weight"
   ],
   "outputs": [],
   "execution_count": 11
  },
  {
   "metadata": {
    "ExecuteTime": {
     "end_time": "2024-11-06T09:56:31.080042Z",
     "start_time": "2024-11-06T09:56:31.064040Z"
    }
   },
   "cell_type": "code",
   "source": [
    "# Initialize new random graph\n",
    "n = 100 # Size of the Graph\n",
    "G: Graph = nx.complete_graph(n)\n",
    "\n",
    "# Initializing the Edge Weights\n",
    "for (u, v, w) in G.edges(data=True):\n",
    "    w['weight'] = random.random()\n",
    "    "
   ],
   "id": "41aa9189261862ee",
   "outputs": [],
   "execution_count": 15
  },
  {
   "metadata": {
    "ExecuteTime": {
     "end_time": "2024-11-06T10:07:58.888164Z",
     "start_time": "2024-11-06T10:07:58.083163Z"
    }
   },
   "cell_type": "code",
   "source": [
    "# Compute the Real MST using PRIM\n",
    "T  = nx.minimum_spanning_tree(G, algorithm ='prim')\n",
    "weight = 0\n",
    "for _,_,d in T.edges(data=True):\n",
    "    weight += d['weight']\n",
    "print(weight)\n",
    "\n",
    "#Running PAMST\n",
    "\n",
    "rho = 1000 # Force Real MST \n",
    "sensitivity = 1\n",
    "\n",
    "noise_lambda = (2 * sensitivity * math.sqrt(n-1))/(math.sqrt(2 * rho))\n",
    "\n",
    "pamst_edges = pamst(G, sensitivity, noise_lambda) # Gives an iterator which should only be executed once!\n",
    "pamst_weight = comp_mst_weight(pamst_edges)\n",
    "print(pamst_weight)\n",
    "\n",
    "# Post-Processing Sealfon\n"
   ],
   "id": "ef9de14c3c0f6074",
   "outputs": [
    {
     "name": "stdout",
     "output_type": "stream",
     "text": [
      "1.5600286139230728\n",
      "4.605461345579824\n"
     ]
    }
   ],
   "execution_count": 40
  },
  {
   "metadata": {},
   "cell_type": "code",
   "outputs": [],
   "execution_count": null,
   "source": "",
   "id": "1e872fd2a0ee3b27"
  }
 ],
 "metadata": {
  "kernelspec": {
   "display_name": "Python 3",
   "language": "python",
   "name": "python3"
  },
  "language_info": {
   "codemirror_mode": {
    "name": "ipython",
    "version": 2
   },
   "file_extension": ".py",
   "mimetype": "text/x-python",
   "name": "python",
   "nbconvert_exporter": "python",
   "pygments_lexer": "ipython2",
   "version": "2.7.6"
  }
 },
 "nbformat": 4,
 "nbformat_minor": 5
}

{
 "cells": [
  {
   "cell_type": "code",
   "id": "initial_id",
   "metadata": {
    "collapsed": true,
    "ExecuteTime": {
     "end_time": "2024-11-06T10:15:05.530230Z",
     "start_time": "2024-11-06T10:15:05.509197Z"
    }
   },
   "source": [
    "import math\n",
    "import random\n",
    "import networkx as nx\n",
    "from networkx import Graph\n",
    "\n",
    "import numpy as np\n",
    "import pandas as pd\n",
    "import seaborn as sb\n",
    "from sklearn.metrics import mutual_info_score\n",
    "from joblib import Parallel, delayed\n",
    "import matplotlib.pyplot as plt\n",
    "from src.pamst import pamst, pamst_weight"
   ],
   "outputs": [
    {
     "ename": "ImportError",
     "evalue": "cannot import name 'pamst_weight' from 'src.pamst' (C:\\Users\\Lukas\\Documents\\Github\\Optimal-Private-Spanning-Trees\\src\\pamst.py)",
     "output_type": "error",
     "traceback": [
      "\u001B[1;31m---------------------------------------------------------------------------\u001B[0m",
      "\u001B[1;31mImportError\u001B[0m                               Traceback (most recent call last)",
      "Cell \u001B[1;32mIn[46], line 12\u001B[0m\n\u001B[0;32m     10\u001B[0m \u001B[38;5;28;01mfrom\u001B[39;00m \u001B[38;5;21;01mjoblib\u001B[39;00m \u001B[38;5;28;01mimport\u001B[39;00m Parallel, delayed\n\u001B[0;32m     11\u001B[0m \u001B[38;5;28;01mimport\u001B[39;00m \u001B[38;5;21;01mmatplotlib\u001B[39;00m\u001B[38;5;21;01m.\u001B[39;00m\u001B[38;5;21;01mpyplot\u001B[39;00m \u001B[38;5;28;01mas\u001B[39;00m \u001B[38;5;21;01mplt\u001B[39;00m\n\u001B[1;32m---> 12\u001B[0m \u001B[38;5;28;01mfrom\u001B[39;00m \u001B[38;5;21;01msrc\u001B[39;00m\u001B[38;5;21;01m.\u001B[39;00m\u001B[38;5;21;01mpamst\u001B[39;00m \u001B[38;5;28;01mimport\u001B[39;00m pamst, pamst_weight\n",
      "\u001B[1;31mImportError\u001B[0m: cannot import name 'pamst_weight' from 'src.pamst' (C:\\Users\\Lukas\\Documents\\Github\\Optimal-Private-Spanning-Trees\\src\\pamst.py)"
     ]
    }
   ],
   "execution_count": 46
  },
  {
   "metadata": {
    "ExecuteTime": {
     "end_time": "2024-11-06T09:56:31.080042Z",
     "start_time": "2024-11-06T09:56:31.064040Z"
    }
   },
   "cell_type": "code",
   "source": [
    "# Initialize new random graph\n",
    "n = 100 # Size of the Graph\n",
    "G: Graph = nx.complete_graph(n)\n",
    "\n",
    "# Initializing the Edge Weights\n",
    "for (u, v, w) in G.edges(data=True):\n",
    "    w['weight'] = random.random()\n",
    "    "
   ],
   "id": "41aa9189261862ee",
   "outputs": [],
   "execution_count": 15
  },
  {
   "metadata": {
    "ExecuteTime": {
     "end_time": "2024-11-06T10:11:31.108300Z",
     "start_time": "2024-11-06T10:11:30.591272Z"
    }
   },
   "cell_type": "code",
   "source": [
    "# Compute the Real MST using PRIM\n",
    "T  = nx.minimum_spanning_tree(G, algorithm ='prim')\n",
    "weight = 0\n",
    "for _,_,d in T.edges(data=True):\n",
    "    weight += d['weight']\n",
    "print(weight)\n",
    "\n",
    "#Running PAMST\n",
    "\n",
    "rho = 1000 # Force Real MST \n",
    "sensitivity = 1\n",
    "\n",
    "noise_lambda = (2 * sensitivity * math.sqrt(n-1))/(math.sqrt(2 * rho))\n",
    "\n",
    "pamst_edges = pamst(G, noise_lambda) # Gives an iterator which should only be executed once!\n",
    "pamst_weight = comp_mst_weight(pamst_edges)\n",
    "print(pamst_weight)\n",
    "\n",
    "# Post-Processing Sealfon\n"
   ],
   "id": "ef9de14c3c0f6074",
   "outputs": [
    {
     "name": "stdout",
     "output_type": "stream",
     "text": [
      "1.5600286139230728\n",
      "6.269779019353163\n"
     ]
    }
   ],
   "execution_count": 41
  },
  {
   "metadata": {},
   "cell_type": "code",
   "outputs": [],
   "execution_count": null,
   "source": "",
   "id": "1e872fd2a0ee3b27"
  }
 ],
 "metadata": {
  "kernelspec": {
   "display_name": "Python 3",
   "language": "python",
   "name": "python3"
  },
  "language_info": {
   "codemirror_mode": {
    "name": "ipython",
    "version": 2
   },
   "file_extension": ".py",
   "mimetype": "text/x-python",
   "name": "python",
   "nbconvert_exporter": "python",
   "pygments_lexer": "ipython2",
   "version": "2.7.6"
  }
 },
 "nbformat": 4,
 "nbformat_minor": 5
}

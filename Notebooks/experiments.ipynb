{
 "cells": [
  {
   "cell_type": "code",
   "id": "initial_id",
   "metadata": {
    "collapsed": true,
    "ExecuteTime": {
     "end_time": "2024-11-06T10:17:15.000267Z",
     "start_time": "2024-11-06T10:17:14.990269Z"
    }
   },
   "source": [
    "import math\n",
    "import random\n",
    "import networkx as nx\n",
    "from networkx import Graph\n",
    "\n",
    "import numpy as np\n",
    "import pandas as pd\n",
    "import seaborn as sb\n",
    "from sklearn.metrics import mutual_info_score\n",
    "from joblib import Parallel, delayed\n",
    "import matplotlib.pyplot as plt\n",
    "from src.pamst import pamst, comp_mst_weight"
   ],
   "outputs": [],
   "execution_count": 2
  },
  {
   "metadata": {
    "ExecuteTime": {
     "end_time": "2024-11-06T10:17:18.212153Z",
     "start_time": "2024-11-06T10:17:18.198155Z"
    }
   },
   "cell_type": "code",
   "source": [
    "# Initialize new random graph\n",
    "n = 100 # Size of the Graph\n",
    "G: Graph = nx.complete_graph(n)\n",
    "\n",
    "# Initializing the Edge Weights\n",
    "for (u, v, w) in G.edges(data=True):\n",
    "    w['weight'] = random.random()\n",
    "    "
   ],
   "id": "41aa9189261862ee",
   "outputs": [],
   "execution_count": 3
  },
  {
   "metadata": {
    "ExecuteTime": {
     "end_time": "2024-11-06T10:11:31.108300Z",
     "start_time": "2024-11-06T10:11:30.591272Z"
    }
   },
   "cell_type": "code",
   "source": [
    "# Computing Different Spanning Trees\n",
    "\n",
    "# Privacy Parameters\n",
    "rho = 1000 # Force Real MST \n",
    "sensitivity = 1\n",
    "\n",
    "### Real Spanning Tree ###\n",
    "T  = nx.minimum_spanning_tree(G, algorithm ='prim')\n",
    "weight = 0\n",
    "for _,_,d in T.edges(data=True):\n",
    "    weight += d['weight']\n",
    "print(weight)\n",
    "\n",
    "\n",
    "### Pinot's PAMST Algorithm ###\n",
    "\n",
    "noise_lambda = (2 * sensitivity * math.sqrt(n-1))/(math.sqrt(2 * rho))\n",
    "pamst_edges = pamst(G, noise_lambda) # Gives an iterator which should only be executed once!\n",
    "pamst_weight = comp_mst_weight(pamst_edges)\n",
    "print(pamst_weight)\n",
    "\n",
    "\n",
    "### Sealfon's Post Processing Technique ###\n",
    "\n",
    "noise_level = rho\n",
    "noise_samples = [random.gauss(0, noise_level) for _ in range(n ** 2)]\n",
    "\n",
    "G_sealfon = G.copy() ## Enables modiufying the edges\n",
    "for (u, v, w) in G.edges(data=True):\n",
    "    w['weight'] += noise_samples\n",
    "## TODO: Iterate and add noise"
   ],
   "id": "ef9de14c3c0f6074",
   "outputs": [
    {
     "name": "stdout",
     "output_type": "stream",
     "text": [
      "1.5600286139230728\n",
      "6.269779019353163\n"
     ]
    }
   ],
   "execution_count": 41
  },
  {
   "metadata": {},
   "cell_type": "code",
   "outputs": [],
   "execution_count": null,
   "source": "",
   "id": "1e872fd2a0ee3b27"
  }
 ],
 "metadata": {
  "kernelspec": {
   "display_name": "Python 3",
   "language": "python",
   "name": "python3"
  },
  "language_info": {
   "codemirror_mode": {
    "name": "ipython",
    "version": 2
   },
   "file_extension": ".py",
   "mimetype": "text/x-python",
   "name": "python",
   "nbconvert_exporter": "python",
   "pygments_lexer": "ipython2",
   "version": "2.7.6"
  }
 },
 "nbformat": 4,
 "nbformat_minor": 5
}
